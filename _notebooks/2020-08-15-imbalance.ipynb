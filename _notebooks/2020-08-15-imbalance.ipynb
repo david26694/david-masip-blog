{
 "cells": [
  {
   "cell_type": "markdown",
   "metadata": {},
   "source": [
    "# Methods for handling imbalance\n",
    "> A review\n",
    "\n",
    "- toc: false\n",
    "- branch: master\n",
    "- badges: true\n",
    "- comments: true\n",
    "- categories: [machine-learning, classification]"
   ]
  },
  {
   "cell_type": "markdown",
   "metadata": {},
   "source": [
    "I read about handling imbalance in machine learning very often. Sometimes I don't understand the reasons to approach class imbalance using fancy and sophisticated techniques. My main argument is, usually, that you should first try the simple solution (which is not approaching imbalance) before going to the most complex solution.\n",
    "\n",
    "I've decided to do an experiment to see the impact of applying over-sampling and under-sampling to answer the following questions:\n",
    "* Does over and under-sampling help increase the AUC of a model?\n",
    "* Does it depend on the algorithm used?\n",
    "* How do the coefficients of logistic regression change when doing over and under sampling?"
   ]
  },
  {
   "cell_type": "markdown",
   "metadata": {},
   "source": [
    "### Data preparation\n",
    "\n",
    "First of all, let's load the packages that we are going to use:"
   ]
  },
  {
   "cell_type": "code",
   "execution_count": 2,
   "metadata": {},
   "outputs": [],
   "source": [
    "# Main tools\n",
    "import numpy as np\n",
    "import pandas as pd\n",
    "import seaborn as sns\n",
    "\n",
    "# Data\n",
    "from sklego.datasets import load_arrests\n",
    "\n",
    "# Scikit-learn classes\n",
    "from sklearn.preprocessing import StandardScaler\n",
    "from sklearn.metrics import roc_auc_score\n",
    "from sklearn.linear_model import LogisticRegression\n",
    "from sklearn.pipeline import Pipeline\n",
    "from sklearn.model_selection import train_test_split\n",
    "\n",
    "# Non-scikit learn classes\n",
    "from category_encoders import OneHotEncoder\n",
    "from lightgbm import LGBMClassifier\n",
    "from sklearn.ensemble import RandomForestClassifier\n",
    "from xgboost import XGBClassifier\n",
    "\n",
    "# Over and under-samplers\n",
    "from imblearn.over_sampling import RandomOverSampler\n",
    "from imblearn.under_sampling import RandomUnderSampler"
   ]
  },
  {
   "cell_type": "markdown",
   "metadata": {},
   "source": [
    "Also, let's load the data. The data are on US arrests. These data are usually used to study ML bias. We are not going to focus on ML bias, because our interest is mainly the imbalance of the data. Keep in mind that any model trained on this data will very likely be racist if the bias is not addressed."
   ]
  },
  {
   "cell_type": "code",
   "execution_count": 3,
   "metadata": {},
   "outputs": [
    {
     "data": {
      "text/html": [
       "<div>\n",
       "<style scoped>\n",
       "    .dataframe tbody tr th:only-of-type {\n",
       "        vertical-align: middle;\n",
       "    }\n",
       "\n",
       "    .dataframe tbody tr th {\n",
       "        vertical-align: top;\n",
       "    }\n",
       "\n",
       "    .dataframe thead th {\n",
       "        text-align: right;\n",
       "    }\n",
       "</style>\n",
       "<table border=\"1\" class=\"dataframe\">\n",
       "  <thead>\n",
       "    <tr style=\"text-align: right;\">\n",
       "      <th></th>\n",
       "      <th>released</th>\n",
       "      <th>colour</th>\n",
       "      <th>year</th>\n",
       "      <th>age</th>\n",
       "      <th>sex</th>\n",
       "      <th>employed</th>\n",
       "      <th>citizen</th>\n",
       "      <th>checks</th>\n",
       "    </tr>\n",
       "  </thead>\n",
       "  <tbody>\n",
       "    <tr>\n",
       "      <th>0</th>\n",
       "      <td>Yes</td>\n",
       "      <td>White</td>\n",
       "      <td>2002</td>\n",
       "      <td>21</td>\n",
       "      <td>Male</td>\n",
       "      <td>Yes</td>\n",
       "      <td>Yes</td>\n",
       "      <td>3</td>\n",
       "    </tr>\n",
       "    <tr>\n",
       "      <th>1</th>\n",
       "      <td>No</td>\n",
       "      <td>Black</td>\n",
       "      <td>1999</td>\n",
       "      <td>17</td>\n",
       "      <td>Male</td>\n",
       "      <td>Yes</td>\n",
       "      <td>Yes</td>\n",
       "      <td>3</td>\n",
       "    </tr>\n",
       "    <tr>\n",
       "      <th>2</th>\n",
       "      <td>Yes</td>\n",
       "      <td>White</td>\n",
       "      <td>2000</td>\n",
       "      <td>24</td>\n",
       "      <td>Male</td>\n",
       "      <td>Yes</td>\n",
       "      <td>Yes</td>\n",
       "      <td>3</td>\n",
       "    </tr>\n",
       "    <tr>\n",
       "      <th>3</th>\n",
       "      <td>No</td>\n",
       "      <td>Black</td>\n",
       "      <td>2000</td>\n",
       "      <td>46</td>\n",
       "      <td>Male</td>\n",
       "      <td>Yes</td>\n",
       "      <td>Yes</td>\n",
       "      <td>1</td>\n",
       "    </tr>\n",
       "    <tr>\n",
       "      <th>4</th>\n",
       "      <td>Yes</td>\n",
       "      <td>Black</td>\n",
       "      <td>1999</td>\n",
       "      <td>27</td>\n",
       "      <td>Female</td>\n",
       "      <td>Yes</td>\n",
       "      <td>Yes</td>\n",
       "      <td>1</td>\n",
       "    </tr>\n",
       "  </tbody>\n",
       "</table>\n",
       "</div>"
      ],
      "text/plain": [
       "  released colour  year  age     sex employed citizen  checks\n",
       "0      Yes  White  2002   21    Male      Yes     Yes       3\n",
       "1       No  Black  1999   17    Male      Yes     Yes       3\n",
       "2      Yes  White  2000   24    Male      Yes     Yes       3\n",
       "3       No  Black  2000   46    Male      Yes     Yes       1\n",
       "4      Yes  Black  1999   27  Female      Yes     Yes       1"
      ]
     },
     "execution_count": 3,
     "metadata": {},
     "output_type": "execute_result"
    }
   ],
   "source": [
    "df_arrests = load_arrests(as_frame=True)\n",
    "df_arrests.head()"
   ]
  },
  {
   "cell_type": "markdown",
   "metadata": {},
   "source": [
    "The imbalance is not very big - 83 vs 17%, but there is some imbalance:"
   ]
  },
  {
   "cell_type": "code",
   "execution_count": 4,
   "metadata": {},
   "outputs": [
    {
     "data": {
      "text/plain": [
       "Yes    82.93\n",
       "No     17.07\n",
       "Name: released, dtype: float64"
      ]
     },
     "execution_count": 4,
     "metadata": {},
     "output_type": "execute_result"
    }
   ],
   "source": [
    "fraction = df_arrests.released.value_counts() / df_arrests.shape[0]\n",
    "\n",
    "round(100 * fraction, 2)"
   ]
  },
  {
   "cell_type": "markdown",
   "metadata": {},
   "source": [
    "That is, 17% of cases have not been released."
   ]
  },
  {
   "cell_type": "code",
   "execution_count": 5,
   "metadata": {},
   "outputs": [],
   "source": [
    "df_arrests_x = df_arrests.drop(columns='released')\n",
    "df_arrests_y = df_arrests['released'].map({'Yes': 0, 'No': 1})\n",
    "df_train_x, df_test_x, df_train_y, df_test_y = train_test_split(\n",
    "    df_arrests_x, \n",
    "    df_arrests_y,\n",
    "    random_state=42\n",
    ")"
   ]
  },
  {
   "cell_type": "markdown",
   "metadata": {},
   "source": [
    "We also create a basic class that will help make our code more uniform"
   ]
  },
  {
   "cell_type": "code",
   "execution_count": 5,
   "metadata": {},
   "outputs": [],
   "source": [
    "class IdentitySampler():\n",
    "    \n",
    "    def __init__(self):\n",
    "        pass\n",
    "    \n",
    "    def fit_resample(self, X, y):\n",
    "        return X, y"
   ]
  },
  {
   "cell_type": "markdown",
   "metadata": {},
   "source": [
    "We're going to try several samplers: over-sampling, under-sampling and *no-sampling* together with several algorithms: logistic regression, lightgbm, random forest and xgboost.\n",
    "\n",
    "By *no-sampling* we mean not addressing the imbalance."
   ]
  },
  {
   "cell_type": "code",
   "execution_count": 6,
   "metadata": {},
   "outputs": [],
   "source": [
    "samplers = {\n",
    "    'identity' : IdentitySampler(),\n",
    "    'over' : RandomOverSampler(random_state=42), \n",
    "    'under' : RandomUnderSampler(random_state=42)\n",
    "}\n",
    "\n",
    "learners = {\n",
    "    'logistic': LogisticRegression(),\n",
    "    'lgbm': LGBMClassifier(random_state=42),\n",
    "    'rf': RandomForestClassifier(random_state=42),\n",
    "    'xgb': XGBClassifier(random_state=42)\n",
    "    \n",
    "}"
   ]
  },
  {
   "cell_type": "markdown",
   "metadata": {},
   "source": [
    "### Performance comparison"
   ]
  },
  {
   "cell_type": "code",
   "execution_count": 7,
   "metadata": {},
   "outputs": [
    {
     "name": "stdout",
     "output_type": "stream",
     "text": [
      "ROC test identity-sampling, logistic: 0.7128\n",
      "ROC test over-sampling, logistic: 0.7109\n",
      "ROC test under-sampling, logistic: 0.7134\n",
      "----------\n",
      "ROC test identity-sampling, lgbm: 0.6936\n",
      "ROC test over-sampling, lgbm: 0.6926\n",
      "ROC test under-sampling, lgbm: 0.6869\n",
      "----------\n",
      "ROC test identity-sampling, rf: 0.6403\n",
      "ROC test over-sampling, rf: 0.6277\n",
      "ROC test under-sampling, rf: 0.6501\n",
      "----------\n",
      "ROC test identity-sampling, xgb: 0.6774\n",
      "ROC test over-sampling, xgb: 0.6529\n",
      "ROC test under-sampling, xgb: 0.6667\n",
      "----------\n"
     ]
    }
   ],
   "source": [
    "coefficients = list()\n",
    "intercepts = list()\n",
    "\n",
    "for learner_name, learner in learners.items():\n",
    "    \n",
    "    # Define learner\n",
    "    pipe = Pipeline([\n",
    "        ('oh', OneHotEncoder()),\n",
    "        ('scaler', StandardScaler()),\n",
    "        ('learner', learner)\n",
    "    ])\n",
    "\n",
    "    for sampler_name, sampler in samplers.items():\n",
    "        \n",
    "        # Obtain resampled training data \n",
    "        X_sampled, y_sampled = sampler.fit_resample(df_train_x, df_train_y)\n",
    "\n",
    "        pipe.fit(X_sampled, y_sampled)\n",
    "        \n",
    "        # Compute ROC AUC\n",
    "        test_roc = roc_auc_score(df_test_y, pipe.predict_proba(df_test_x)[:,1]).round(4)\n",
    "\n",
    "        print(\n",
    "            f'ROC test {sampler_name}-sampling, {learner_name}: {test_roc}'\n",
    "        )\n",
    "        \n",
    "        # For logistic regression, save coefficients and intercept\n",
    "        if learner_name == 'logistic':\n",
    "\n",
    "            intercept = pipe[-1].intercept_[0].round(3)\n",
    "\n",
    "            coefficients.append(\n",
    "                pipe[-1].coef_[0]\n",
    "            )\n",
    "\n",
    "            intercepts.append(intercept)\n",
    "    print(\"----------\")"
   ]
  },
  {
   "cell_type": "markdown",
   "metadata": {},
   "source": [
    "For most models and datasets, the three methods have almost no difference.\n",
    "\n",
    "* Over-sampling doesn't win in any case, and it's the worst in 3 cases.\n",
    "* Under-sampling wins twice, no sampling wins twice."
   ]
  },
  {
   "cell_type": "markdown",
   "metadata": {},
   "source": [
    "### Logistic regression case"
   ]
  },
  {
   "cell_type": "markdown",
   "metadata": {},
   "source": [
    "In the logistic regression case, we can have a look at the coefficients to try to understand what over and under-sampling are doing."
   ]
  },
  {
   "cell_type": "code",
   "execution_count": 8,
   "metadata": {},
   "outputs": [],
   "source": [
    "# Prepare coefficients dataframe\n",
    "\n",
    "coefficients = pd.DataFrame(np.array(coefficients).T)\n",
    "intercepts = pd.DataFrame(np.array(intercepts)).T\n",
    "\n",
    "coefficients.columns = samplers.keys()\n",
    "intercepts.columns = samplers.keys()\n",
    "\n",
    "coefficients = intercepts.append(coefficients)\n",
    "\n",
    "# Clean data to plot\n",
    "\n",
    "coefficents_long = coefficients.melt(var_name='sampling', value_name='coefficient')\n",
    "\n",
    "coefficents_long['index'] = list(range(coefficients.shape[0])) * 3\n",
    "coefficents_long['intercept'] = coefficents_long['index'] == 0"
   ]
  },
  {
   "cell_type": "markdown",
   "metadata": {},
   "source": [
    "We can see that most coefficients are very similar in the 3 cases, but the first coefficient changes significantly (in this case, the intercept). The effect on the coefficients of under or over-sampling is increasing the intercept. This completely makes sense - the intercept represents, in a way, the fraction of cases with target 1. By changing this fraction we are artificiallt increasing the intercept."
   ]
  },
  {
   "cell_type": "code",
   "execution_count": 9,
   "metadata": {},
   "outputs": [
    {
     "data": {
      "text/plain": [
       "<matplotlib.axes._subplots.AxesSubplot at 0x1a1ff19240>"
      ]
     },
     "execution_count": 9,
     "metadata": {},
     "output_type": "execute_result"
    },
    {
     "data": {
      "image/png": "[encoded data removed]",
      "text/plain": [
       "<Figure size 432x288 with 1 Axes>"
      ]
     },
     "metadata": {
      "needs_background": "light"
     },
     "output_type": "display_data"
    }
   ],
   "source": [
    "sns.lineplot(data=coefficents_long, y='coefficient', x='index', hue='sampling')"
   ]
  }
 ],
 "metadata": {
  "kernelspec": {
   "display_name": "Python [conda env:sk-experiments] *",
   "language": "python",
   "name": "conda-env-sk-experiments-py"
  },
  "language_info": {
   "codemirror_mode": {
    "name": "ipython",
    "version": 3
   },
   "file_extension": ".py",
   "mimetype": "text/x-python",
   "name": "python",
   "nbconvert_exporter": "python",
   "pygments_lexer": "ipython3",
   "version": "3.7.0"
  }
 },
 "nbformat": 4,
 "nbformat_minor": 4
}
